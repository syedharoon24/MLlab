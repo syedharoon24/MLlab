{
  "nbformat": 4,
  "nbformat_minor": 0,
  "metadata": {
    "colab": {
      "provenance": [],
      "authorship_tag": "ABX9TyPLDMm2r6jzPVdD/wNI4LPA",
      "include_colab_link": true
    },
    "kernelspec": {
      "name": "python3",
      "display_name": "Python 3"
    },
    "language_info": {
      "name": "python"
    }
  },
  "cells": [
    {
      "cell_type": "markdown",
      "metadata": {
        "id": "view-in-github",
        "colab_type": "text"
      },
      "source": [
        "<a href=\"https://colab.research.google.com/github/syedharoon24/MLlab/blob/main/Problem2.ipynb\" target=\"_parent\"><img src=\"https://colab.research.google.com/assets/colab-badge.svg\" alt=\"Open In Colab\"/></a>"
      ]
    },
    {
      "cell_type": "markdown",
      "source": [
        "##Problem Statement: Using python write a NumPy program to compute the following\n",
        "a) Expected Value."
      ],
      "metadata": {
        "id": "GvjEqki8woet"
      }
    },
    {
      "cell_type": "code",
      "execution_count": 1,
      "metadata": {
        "colab": {
          "base_uri": "https://localhost:8080/"
        },
        "id": "PZfTBu39whpS",
        "outputId": "3802a1e7-fee4-4554-88ec-3c1f3a297d16"
      },
      "outputs": [
        {
          "output_type": "stream",
          "name": "stdout",
          "text": [
            "Expectation of array E(X) is :  3.5\n"
          ]
        }
      ],
      "source": [
        "def calc_Expectation(a, n):\n",
        "  prb = 1/n\n",
        "  sum = 0\n",
        "  for i in range(0,n):\n",
        "    sum += (a[i] * prb)\n",
        "\n",
        "  return float(sum)\n",
        "\n",
        "#Driver program\n",
        "n = 6;\n",
        "a = [1.0, 2.0, 3.0, 4.0, 5.0, 6.0]\n",
        "expect = calc_Expectation(a, n)\n",
        "print( \"Expectation of array E(X) is : \",expect)\n"
      ]
    },
    {
      "cell_type": "markdown",
      "source": [
        "##b). Calculate Mean"
      ],
      "metadata": {
        "id": "WIluP78tw4Ji"
      }
    },
    {
      "cell_type": "code",
      "source": [
        "# Program for 1D array\n",
        "# numpy.mean() method\n",
        "import numpy as np\n",
        "arr = [20, 2, 7, 1, 34]\n",
        "print(\"The given array is: \", arr)\n",
        "print(\"mean of the given array is : \", np.mean(arr))"
      ],
      "metadata": {
        "colab": {
          "base_uri": "https://localhost:8080/"
        },
        "id": "YlTv6Jggw9zN",
        "outputId": "b568c3f5-af43-497a-e2ea-b537bf2015ab"
      },
      "execution_count": 2,
      "outputs": [
        {
          "output_type": "stream",
          "name": "stdout",
          "text": [
            "The given array is:  [20, 2, 7, 1, 34]\n",
            "mean of the given array is :  12.8\n"
          ]
        }
      ]
    },
    {
      "cell_type": "code",
      "source": [
        "# Program for 2D array\n",
        "# numpy.mean() method\n",
        "import numpy as np\n",
        "arr = [[14, 17, 12, 33, 44],\n",
        "[15, 6, 27, 8, 19],\n",
        "[23, 2, 54, 1, 4, ]]\n",
        "\n",
        "print(\"\\nmean of arr along the axis = None : \", np.mean(arr))\n",
        "print(\"mean of arr along the axis = 0 : \", np.mean(arr, axis = 0))\n",
        "print(\"mean of arr along the axis = 1 : \", np.mean(arr, axis = 1))\n",
        "\n",
        "out_arr = np.arange(3).reshape(3,1)\n",
        "print(\"\\nout_arr : \", out_arr)\n",
        "print(\"mean of arr along the axis = 1: \",np.mean(arr, axis = 1))"
      ],
      "metadata": {
        "colab": {
          "base_uri": "https://localhost:8080/"
        },
        "id": "ygzLUT2PxId8",
        "outputId": "f0778a33-6630-43f2-cf01-7d2856f8d278"
      },
      "execution_count": 3,
      "outputs": [
        {
          "output_type": "stream",
          "name": "stdout",
          "text": [
            "\n",
            "mean of arr along the axis = None :  18.6\n",
            "mean of arr along the axis = 0 :  [17.33333333  8.33333333 31.         14.         22.33333333]\n",
            "mean of arr along the axis = 1 :  [24.  15.  16.8]\n",
            "\n",
            "out_arr :  [[0]\n",
            " [1]\n",
            " [2]]\n",
            "mean of arr along the axis = 1:  [24.  15.  16.8]\n"
          ]
        }
      ]
    },
    {
      "cell_type": "markdown",
      "source": [
        "##c). Standard Deviation."
      ],
      "metadata": {
        "id": "SZkbSRUZxELI"
      }
    },
    {
      "cell_type": "code",
      "source": [
        "# Program for 1D array\n",
        "# Python Program illustrating numpy.std() method\n",
        "import numpy as np\n",
        "arr = [20, 2, 7, 1, 341]\n",
        "print(\"arr : \", arr)\n",
        "print(\"std of arr : \", np.std(arr))\n",
        "print (\"\\nMore precision with float32\")\n",
        "print(\"std of arr : \", np.std(arr, dtype = np.float32))\n",
        "print (\"\\nMore accuracy with float64\")\n",
        "print(\"std of arr : \", np.std(arr, dtype = np.float64))"
      ],
      "metadata": {
        "colab": {
          "base_uri": "https://localhost:8080/"
        },
        "id": "auSiGsBUxS5b",
        "outputId": "2e4f96cc-4dcf-414c-b4a2-48a9564745ce"
      },
      "execution_count": 4,
      "outputs": [
        {
          "output_type": "stream",
          "name": "stdout",
          "text": [
            "arr :  [20, 2, 7, 1, 341]\n",
            "std of arr :  133.57155385784804\n",
            "\n",
            "More precision with float32\n",
            "std of arr :  133.57155\n",
            "\n",
            "More accuracy with float64\n",
            "std of arr :  133.57155385784804\n"
          ]
        }
      ]
    },
    {
      "cell_type": "code",
      "source": [
        "#Program for 2D array\n",
        "# Python Program illustrating\n",
        "#numpy.std() method\n",
        "import numpy as np\n",
        "arr = [[2, 2, 2, 2, 2],\n",
        "[15, 6, 27, 8, 2],\n",
        "[23, 2, 54, 1, 2, ],\n",
        "[11, 44, 34, 7, 2]]\n",
        "\n",
        "print(\"\\nstd of arr, axis = None : \", np.std(arr))\n",
        "\n",
        "print(\"\\nstd of arr, axis = 0 : \", np.std(arr, axis = 0))\n",
        "\n",
        "print(\"\\nstd of arr, axis = 1 : \", np.std(arr, axis = 1))"
      ],
      "metadata": {
        "colab": {
          "base_uri": "https://localhost:8080/"
        },
        "id": "CXOU-srmxhjY",
        "outputId": "346445bc-9d9e-4455-bb19-e636efa76b70"
      },
      "execution_count": 5,
      "outputs": [
        {
          "output_type": "stream",
          "name": "stdout",
          "text": [
            "\n",
            "std of arr, axis = None :  15.3668474320532\n",
            "\n",
            "std of arr, axis = 0 :  [ 7.56224173 17.68473918 18.59267329  3.04138127  0.        ]\n",
            "\n",
            "std of arr, axis = 1 :  [ 0.          8.7772433  20.53874388 16.40243884]\n"
          ]
        }
      ]
    },
    {
      "cell_type": "markdown",
      "source": [
        "##d). Variance"
      ],
      "metadata": {
        "id": "fjUGn8yUxdh4"
      }
    },
    {
      "cell_type": "code",
      "source": [
        "# Python program to get variance of a list\n",
        "# Importing the NumPy module\n",
        "import numpy as np\n",
        "\n",
        "list = [2, 4, 4, 4, 5, 5, 7, 9]\n",
        "\n",
        "print(\"\\nstd of arr, axis = None : \", np.var(list))"
      ],
      "metadata": {
        "colab": {
          "base_uri": "https://localhost:8080/"
        },
        "id": "XOTzS9zRxrFd",
        "outputId": "d7fe4e13-120c-4fee-f8ec-81f2144eec9f"
      },
      "execution_count": 6,
      "outputs": [
        {
          "output_type": "stream",
          "name": "stdout",
          "text": [
            "\n",
            "std of arr, axis = None :  4.0\n"
          ]
        }
      ]
    },
    {
      "cell_type": "markdown",
      "source": [
        "##e). Covariance"
      ],
      "metadata": {
        "id": "-m_UtzSnxzqA"
      }
    },
    {
      "cell_type": "code",
      "source": [
        "from numpy import array\n",
        "from numpy import cov\n",
        "x = array([1,2,3,4,5,6,7,8,9])\n",
        "print(x)\n",
        "y = array([9,8,7,6,5,4,3,2,1])\n",
        "print(y)\n",
        "Sigma = cov(x,y)[0,1]\n",
        "print(Sigma)"
      ],
      "metadata": {
        "colab": {
          "base_uri": "https://localhost:8080/"
        },
        "id": "VemxQrB-x3lx",
        "outputId": "be9583aa-cea2-42d6-9540-11b89e8a526b"
      },
      "execution_count": 7,
      "outputs": [
        {
          "output_type": "stream",
          "name": "stdout",
          "text": [
            "[1 2 3 4 5 6 7 8 9]\n",
            "[9 8 7 6 5 4 3 2 1]\n",
            "-7.5\n"
          ]
        }
      ]
    },
    {
      "cell_type": "markdown",
      "source": [
        "##f). Covariance Matrix of two given arrays:"
      ],
      "metadata": {
        "id": "NAjPvN6Ex885"
      }
    },
    {
      "cell_type": "code",
      "source": [
        "from numpy import array\n",
        "from numpy import cov\n",
        "x = array([1,2,3,4,5,6,7,8,9])\n",
        "print(x)\n",
        "y = array([9,8,7,6,5,4,3,2,1])\n",
        "print(y)\n",
        "Sigma = cov(x,y)\n",
        "print(Sigma)"
      ],
      "metadata": {
        "colab": {
          "base_uri": "https://localhost:8080/"
        },
        "id": "aP8qxGejyBOK",
        "outputId": "789bfc04-58ca-4178-d764-df6a507cd91e"
      },
      "execution_count": 8,
      "outputs": [
        {
          "output_type": "stream",
          "name": "stdout",
          "text": [
            "[1 2 3 4 5 6 7 8 9]\n",
            "[9 8 7 6 5 4 3 2 1]\n",
            "[[ 7.5 -7.5]\n",
            " [-7.5  7.5]]\n"
          ]
        }
      ]
    }
  ]
}