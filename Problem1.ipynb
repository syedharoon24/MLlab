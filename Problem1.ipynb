{
  "nbformat": 4,
  "nbformat_minor": 0,
  "metadata": {
    "colab": {
      "provenance": [],
      "authorship_tag": "ABX9TyOl7Tx4d7mPRov4JwG4pJi2",
      "include_colab_link": true
    },
    "kernelspec": {
      "name": "python3",
      "display_name": "Python 3"
    },
    "language_info": {
      "name": "python"
    }
  },
  "cells": [
    {
      "cell_type": "markdown",
      "metadata": {
        "id": "view-in-github",
        "colab_type": "text"
      },
      "source": [
        "<a href=\"https://colab.research.google.com/github/syedharoon24/MLlab/blob/main/Problem1.ipynb\" target=\"_parent\"><img src=\"https://colab.research.google.com/assets/colab-badge.svg\" alt=\"Open In Colab\"/></a>"
      ]
    },
    {
      "cell_type": "markdown",
      "source": [
        "##a)Operation of data types in Python."
      ],
      "metadata": {
        "id": "TGHQC1heuIgM"
      }
    },
    {
      "cell_type": "code",
      "source": [
        "x = 5\n",
        "print(type(x))\n",
        "\n",
        "x = str(\"Hello World\")\n",
        "print(x)\n",
        "print(type(x))"
      ],
      "metadata": {
        "colab": {
          "base_uri": "https://localhost:8080/"
        },
        "id": "TBD0KuYoufUH",
        "outputId": "e1acfc28-bc5b-4850-fb76-8aa8c10d670f"
      },
      "execution_count": 2,
      "outputs": [
        {
          "output_type": "stream",
          "name": "stdout",
          "text": [
            "<class 'int'>\n",
            "Hello World\n",
            "<class 'str'>\n"
          ]
        }
      ]
    },
    {
      "cell_type": "markdown",
      "source": [
        "##b) Different Arithmetic operations on numbers in python."
      ],
      "metadata": {
        "id": "whgi4Nvpu5QU"
      }
    },
    {
      "cell_type": "code",
      "source": [
        "num1 = input('Enter first number: ')\n",
        "num2 = input('Enter second number: ')\n",
        "\n",
        "sum = float(num1) + float(num2)\n",
        "sub = float(num1) - float(num2)\n",
        "mul = float(num1) * float(num2)\n",
        "div = float(num1) / float(num2)\n",
        "\n",
        "print('The sum of {0} and {1} is {2}'.format(num1, num2, sum))\n",
        "\n",
        "print('The subtraction of {0} and {1} is {2}'.format(num1, num2, sub))\n",
        "\n",
        "print('The multiplication of {0} and {1} is {2}'.format(num1, num2, mul))\n",
        "\n",
        "print ('The division of {0} and {1} is {2}'.format(num1, num2, div))\n"
      ],
      "metadata": {
        "colab": {
          "base_uri": "https://localhost:8080/"
        },
        "id": "k8GbJUtWu6sO",
        "outputId": "fb719c3a-a1b2-4648-ceff-db1de40e0075"
      },
      "execution_count": 3,
      "outputs": [
        {
          "output_type": "stream",
          "name": "stdout",
          "text": [
            "Enter first number: 23\n",
            "Enter second number: 34\n",
            "The sum of 23 and 34 is 57.0\n",
            "The subtraction of 23 and 34 is -11.0\n",
            "The multiplication of 23 and 34 is 782.0\n",
            "The division of 23 and 34 is 0.6764705882352942\n"
          ]
        }
      ]
    },
    {
      "cell_type": "markdown",
      "source": [
        "##c) Create, concatenate and print a string and access substring from a given string."
      ],
      "metadata": {
        "id": "xC7IgcIgvMft"
      }
    },
    {
      "cell_type": "code",
      "source": [
        "x = \"Python \"\n",
        "y= \"is\"\n",
        "z = \"awesome\"\n",
        "print(x + y + z)"
      ],
      "metadata": {
        "colab": {
          "base_uri": "https://localhost:8080/"
        },
        "id": "2PctNz4lvQzL",
        "outputId": "2ff7f29e-042d-4a8c-8578-3623f3ce395a"
      },
      "execution_count": 4,
      "outputs": [
        {
          "output_type": "stream",
          "name": "stdout",
          "text": [
            "Python isawesome\n"
          ]
        }
      ]
    },
    {
      "cell_type": "markdown",
      "source": [
        "##d) Append, and remove lists in python"
      ],
      "metadata": {
        "id": "Ad5JkYyBvZ8a"
      }
    },
    {
      "cell_type": "code",
      "source": [
        "#append method\n",
        "a= [25,\"vinay\",45,217]\n",
        "a. append(\"rohit\")\n",
        "print(a)\n",
        "\n",
        "#extend method\n",
        "b=[2,45,101]\n",
        "b.extend([\"sunny\",\"sandeep\",\"shashanka\"])\n",
        "print(b)\n",
        "\n",
        "#pop method for remove an element\n",
        "d=[12,34,56,78,89,0]\n",
        "d.pop()\n",
        "print(d)\n"
      ],
      "metadata": {
        "colab": {
          "base_uri": "https://localhost:8080/"
        },
        "id": "PqTEEFhdvkAy",
        "outputId": "3b9e2d8b-43df-4da3-d8f2-8a976827b4bf"
      },
      "execution_count": 5,
      "outputs": [
        {
          "output_type": "stream",
          "name": "stdout",
          "text": [
            "[25, 'vinay', 45, 217, 'rohit']\n",
            "[2, 45, 101, 'sunny', 'sandeep', 'shashanka']\n",
            "[12, 34, 56, 78, 89]\n"
          ]
        }
      ]
    },
    {
      "cell_type": "markdown",
      "source": [
        "##e) Demonstrate working with tuples in python."
      ],
      "metadata": {
        "id": "4kxMBhPqvxy8"
      }
    },
    {
      "cell_type": "code",
      "source": [
        "#empty tuple\n",
        "t= ()\n",
        "print(t)\n",
        "\n",
        "tup = ('python','Java')\n",
        "print(tup)\n",
        "\n",
        "# concatenating 2 tuples\n",
        "tuple1 = (0, 1, 2, 3)\n",
        "tuple2 = ('python', 'GoEduhub')\n",
        "print(tuple1 + tuple2)\n",
        "\n",
        "#converting a list and a string into a tuple\n",
        "list1 = [0, 1, 2]\n",
        "print(tuple(list1))\n",
        "print(tuple('python'))\n",
        "\n",
        "#tuples in a loop\n",
        "tup = ('h','e','l', 'l', 'o')\n",
        "for i in tup:\n",
        "   print(i)\n",
        "\n",
        ""
      ],
      "metadata": {
        "colab": {
          "base_uri": "https://localhost:8080/"
        },
        "id": "LgKAm8iXv2O1",
        "outputId": "b09b15d5-eef6-4770-bf82-317a3bc38470"
      },
      "execution_count": 6,
      "outputs": [
        {
          "output_type": "stream",
          "name": "stdout",
          "text": [
            "()\n",
            "('python', 'Java')\n",
            "(0, 1, 2, 3, 'python', 'GoEduhub')\n",
            "(0, 1, 2)\n",
            "('p', 'y', 't', 'h', 'o', 'n')\n",
            "h\n",
            "e\n",
            "l\n",
            "l\n",
            "o\n"
          ]
        }
      ]
    },
    {
      "cell_type": "markdown",
      "source": [
        "##f) Demonstrate working with dictionaries in python"
      ],
      "metadata": {
        "id": "_4KsX1jVv85F"
      }
    },
    {
      "cell_type": "code",
      "source": [
        "#Create and print a dictionary :\n",
        "thisdict = {\n",
        "    \"brand\": \"Ford\",\n",
        "    \"model\": \"Mustang\",\n",
        "    \"year\": 1964\n",
        "}\n",
        "\n",
        "print(thisdict)\n",
        "\n",
        "#Dictionaries cannot have two items with the same key\n",
        "#Duplicate values will overwrite existing values\n",
        "thisdict = {\n",
        "    \"brand\": \"Ford\",\n",
        "    \"model\": \"Mustang\",\n",
        "    \"year\": 1964,\n",
        "    \"year\": 2020\n",
        "}\n",
        "print(thisdict)\n",
        "print(len(thisdict))\n",
        "\n",
        "#Accessing Items\n",
        "thisdict = {\n",
        "    \"brand\": \"Ford\",\n",
        "    \"model\": \"Mustang\",\n",
        "    \"year\": 1964\n",
        "}\n",
        "x = thisdict[\"model\"]\n",
        "print(x)"
      ],
      "metadata": {
        "colab": {
          "base_uri": "https://localhost:8080/"
        },
        "id": "me27m5UWwBzx",
        "outputId": "5c44d809-baea-4e36-a277-c03770371213"
      },
      "execution_count": 7,
      "outputs": [
        {
          "output_type": "stream",
          "name": "stdout",
          "text": [
            "{'brand': 'Ford', 'model': 'Mustang', 'year': 1964}\n",
            "{'brand': 'Ford', 'model': 'Mustang', 'year': 2020}\n",
            "3\n",
            "Mustang\n"
          ]
        }
      ]
    }
  ]
}